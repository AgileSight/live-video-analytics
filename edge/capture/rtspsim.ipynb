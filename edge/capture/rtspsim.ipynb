{
 "cells": [
  {
   "cell_type": "markdown",
   "metadata": {},
   "source": [
    "# Prerequisites\n",
    "\n",
    "1. [Install Docker](http://docs.docker.com/docker-for-windows/install/) on your machine\n",
    "2. Install a RTSP player such as [VLC Media Player](http://www.videolan.org/vlc/) on your machine\n",
    "3. [Create Azure container registry](http://docs.microsoft.com/en-us/azure/container-registry/container-registry-get-started-portal) in your Azure subscription (to upload RTSP simulator image for future usage)"
   ]
  },
  {
   "cell_type": "markdown",
   "metadata": {},
   "source": [
    "# Create local folder for RTSP simulator Dockerfile"
   ]
  },
  {
   "cell_type": "code",
   "execution_count": null,
   "metadata": {},
   "outputs": [],
   "source": [
    "rtspsimLocalFolder = input('Path to directory where RTSP simulator Dockerfile should be created')\n",
    "\n",
    "import os\n",
    "if not os.path.exists(rtspsimLocalFolder):\n",
    "    os.mkdir(rtspsimLocalFolder)"
   ]
  },
  {
   "cell_type": "markdown",
   "metadata": {},
   "source": [
    "# Write Dockerfile"
   ]
  },
  {
   "cell_type": "code",
   "execution_count": null,
   "metadata": {},
   "outputs": [],
   "source": [
    "%%writefile $rtspsimLocalFolder/Dockerfile\n",
    "\n",
    "FROM ubuntu:18.04\n",
    "\n",
    "RUN apt-get update && \\\n",
    "    apt-get upgrade -y && \\\n",
    "    apt-get install -y make build-essential wget libssl-dev\n",
    "\n",
    "RUN wget http://www.live555.com/liveMedia/public/live555-latest.tar.gz && \\\n",
    "    tar -xzf live555-latest.tar.gz\n",
    "\n",
    "RUN cd live && \\\n",
    "    ./genMakefiles linux && \\\n",
    "    make\n",
    "\n",
    "WORKDIR /live/mediaServer\n",
    "\n",
    "ENTRYPOINT [ \"./live555MediaServer\" ]"
   ]
  },
  {
   "cell_type": "markdown",
   "metadata": {},
   "source": [
    "# Create local docker image"
   ]
  },
  {
   "cell_type": "code",
   "execution_count": null,
   "metadata": {},
   "outputs": [],
   "source": [
    "containerImageName = input('RTSP simulator docker image name')\n",
    "\n",
    "!docker build $rtspsimLocalFolder -t $containerImageName"
   ]
  },
  {
   "cell_type": "markdown",
   "metadata": {},
   "source": [
    "# Test docker image\n",
    "\n",
    "To test docker image you can run the following command on your local machine\n",
    "\n",
    "docker run -p 554:554 -v **localMediaFolder**:/live/mediaServer/media **containerImageName**\n",
    "    \n",
    "**localMediaFolder** should point to a folder on your machine where you have media files (e.g. /home/xyz/Videos/) and **containerImageName** should be the image name you provided earlier"
   ]
  },
  {
   "cell_type": "markdown",
   "metadata": {},
   "source": [
    "# Play Media files\n",
    "\n",
    "Play media files with URL http://localhost:554/media/my-media-file using RTSP client (e.g. VLC media player) of your choice. Replace my-media-file in this URL with the name of your video file located in your media folder.\n",
    "\n",
    "Check http://www.live555.com/mediaServer/ for supported file formats\n"
   ]
  },
  {
   "cell_type": "markdown",
   "metadata": {},
   "source": [
    "# Login to Azure"
   ]
  },
  {
   "cell_type": "code",
   "execution_count": null,
   "metadata": {},
   "outputs": [],
   "source": [
    "!az login"
   ]
  },
  {
   "cell_type": "markdown",
   "metadata": {},
   "source": [
    "# Push docker image to Azure container registry"
   ]
  },
  {
   "cell_type": "code",
   "execution_count": null,
   "metadata": {},
   "outputs": [],
   "source": [
    "#Provide name of your Azure container registry (ACR), where you would like to upload the RTSP simulator image\n",
    "containerRegServiceName = input('Container Registry service name') \n",
    "\n",
    "# Tag the local docker image\n",
    "!docker tag $containerImageName $containerRegServiceName.azurecr.io/$containerImageName\n",
    "\n",
    "#Push the docker image to ACR\n",
    "!docker push $containerRegServiceName.azurecr.io/$containerImageName"
   ]
  }
 ],
 "metadata": {
  "kernelspec": {
   "display_name": "Python 3",
   "language": "python",
   "name": "python3"
  },
  "language_info": {
   "codemirror_mode": {
    "name": "ipython",
    "version": 3
   },
   "file_extension": ".py",
   "mimetype": "text/x-python",
   "name": "python",
   "nbconvert_exporter": "python",
   "pygments_lexer": "ipython3",
   "version": "3.7.4"
  }
 },
 "nbformat": 4,
 "nbformat_minor": 4
}
